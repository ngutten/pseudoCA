{
 "cells": [
  {
   "cell_type": "code",
   "execution_count": 1,
   "metadata": {},
   "outputs": [],
   "source": [
    "%matplotlib inline\n",
    "\n",
    "import numpy as np\n",
    "import matplotlib.pyplot as plt\n",
    "\n",
    "import torch \n",
    "import torch.nn as nn\n",
    "import torch.nn.functional as F\n",
    "\n",
    "from IPython import display\n",
    "import time\n",
    "\n",
    "from PIL import Image"
   ]
  },
  {
   "cell_type": "code",
   "execution_count": 826,
   "metadata": {},
   "outputs": [],
   "source": [
    "def sym(x):\n",
    "    z =  x + x.flip(2).flip(3) + x.transpose(2,3).flip(2) + x.transpose(2,3).flip(3)\n",
    "    \n",
    "    return z/4\n",
    "\n",
    "class Model(nn.Module):\n",
    "    def __init__(self, RES=512):\n",
    "        super(Model,self).__init__()\n",
    "        self.RES = RES\n",
    "        \n",
    "        self.spins = (2*torch.randint(2,size=(1,1,RES,RES))-1).cuda().half()\n",
    "        \n",
    "        self.J1 = nn.Conv2d(1,16,5,padding=2).cuda().half()\n",
    "        self.J1.weight.data = sym(self.J1.weight.data)\n",
    "        self.J2 = nn.Conv2d(16,16,5,padding=2).cuda().half()\n",
    "        self.J2.weight.data = sym(self.J2.weight.data)\n",
    "        \n",
    "        self.J3 = nn.Conv2d(16,16,5,padding=2).cuda().half()\n",
    "        self.J3.weight.data = sym(self.J3.weight.data)\n",
    "        self.J4 = nn.Conv2d(16,16,5,padding=2).cuda().half()\n",
    "        self.J4.weight.data = sym(self.J4.weight.data)\n",
    "        \n",
    "        self.J5 = nn.Conv2d(16,1,5,padding=2, bias=None).cuda().half()\n",
    "        self.J5.weight.data = sym(self.J5.weight.data)\n",
    "        \n",
    "        self.T = 10\n",
    "        \n",
    "    def step(self):\n",
    "        z = F.relu(self.J1(self.spins))\n",
    "        mu = z.view(z.size(0),z.size(1),-1).mean(2).unsqueeze(2).unsqueeze(3)\n",
    "        std = z.view(z.size(0),z.size(1),-1).std(2).unsqueeze(2).unsqueeze(3)\n",
    "        z = (z-mu)/(1e-8+std)\n",
    "        \n",
    "        z = F.relu(self.J2(z))\n",
    "        mu = z.view(z.size(0),z.size(1),-1).mean(2).unsqueeze(2).unsqueeze(3)\n",
    "        std = z.view(z.size(0),z.size(1),-1).std(2).unsqueeze(2).unsqueeze(3)\n",
    "        z = (z-mu)/(1e-8+std)\n",
    "\n",
    "        z = F.relu(self.J3(z))\n",
    "        mu = z.view(z.size(0),z.size(1),-1).mean(2).unsqueeze(2).unsqueeze(3)\n",
    "        std = z.view(z.size(0),z.size(1),-1).std(2).unsqueeze(2).unsqueeze(3)\n",
    "        z = (z-mu)/(1e-8+std)\n",
    "\n",
    "        z = F.relu(self.J4(z))\n",
    "        mu = z.view(z.size(0),z.size(1),-1).mean(2).unsqueeze(2).unsqueeze(3)\n",
    "        std = z.view(z.size(0),z.size(1),-1).std(2).unsqueeze(2).unsqueeze(3)\n",
    "        z = (z-mu)/(1e-8+std)\n",
    "\n",
    "        z = self.J5(z)\n",
    "                \n",
    "        p = F.sigmoid(self.T * (z + 0.3 * self.spins))\n",
    "        \n",
    "        self.spins = (2*(torch.rand_like(self.spins)<p).half()-1).detach()\n",
    "        "
   ]
  },
  {
   "cell_type": "code",
   "execution_count": 827,
   "metadata": {},
   "outputs": [
    {
     "name": "stdout",
     "output_type": "stream",
     "text": [
      "torch.Size([400])\n",
      "torch.Size([16])\n",
      "torch.Size([6400])\n",
      "torch.Size([16])\n",
      "torch.Size([6400])\n",
      "torch.Size([16])\n",
      "torch.Size([6400])\n",
      "torch.Size([16])\n",
      "torch.Size([400])\n"
     ]
    }
   ],
   "source": [
    "model = Model()"
   ]
  },
  {
   "cell_type": "code",
   "execution_count": 828,
   "metadata": {},
   "outputs": [
    {
     "name": "stderr",
     "output_type": "stream",
     "text": [
      "/usr/local/lib/python3.6/dist-packages/torch/nn/functional.py:1386: UserWarning: nn.functional.sigmoid is deprecated. Use torch.sigmoid instead.\n",
      "  warnings.warn(\"nn.functional.sigmoid is deprecated. Use torch.sigmoid instead.\")\n"
     ]
    }
   ],
   "source": [
    "model.T = 0.1\n",
    "idx = 0\n",
    "\n",
    "for i in range(4000):\n",
    "    model.step()\n",
    "    im = (255*(1+model.spins.cpu().detach().numpy())/2).astype(np.uint8)[0,0]\n",
    "    \n",
    "    if i%10==0:\n",
    "        im = (255*(1+model.spins.cpu().detach().numpy())/2).astype(np.uint8)\n",
    "        im = Image.fromarray(im[0,0])\n",
    "        im.save(\"output/%.6d.png\" % idx)\n",
    "        idx += 1\n",
    "        \n",
    "        model.T += 0.05"
   ]
  },
  {
   "cell_type": "code",
   "execution_count": null,
   "metadata": {},
   "outputs": [],
   "source": []
  }
 ],
 "metadata": {
  "kernelspec": {
   "display_name": "Python 3",
   "language": "python",
   "name": "python3"
  },
  "language_info": {
   "codemirror_mode": {
    "name": "ipython",
    "version": 3
   },
   "file_extension": ".py",
   "mimetype": "text/x-python",
   "name": "python",
   "nbconvert_exporter": "python",
   "pygments_lexer": "ipython3",
   "version": "3.6.3"
  }
 },
 "nbformat": 4,
 "nbformat_minor": 2
}
